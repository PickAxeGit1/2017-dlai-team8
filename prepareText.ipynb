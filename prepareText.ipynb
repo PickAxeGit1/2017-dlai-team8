{
 "cells": [
  {
   "cell_type": "code",
   "execution_count": 74,
   "metadata": {},
   "outputs": [],
   "source": [
    "#imports\n",
    "import re\n",
    "import collections"
   ]
  },
  {
   "cell_type": "code",
   "execution_count": 113,
   "metadata": {
    "collapsed": true
   },
   "outputs": [
    {
     "name": "stdout",
     "output_type": "stream",
     "text": [
      "['near', 'the', 'town', 'of', 'connel', ',', 'the', 'flatlands', 'in', 'the', 'distance', 'trembled', 'as', 'if', 'a', 'great', 'wave', 'crested', 'just', 'beneath', 'its', 'surface', '.', 'like', 'distant', 'thunder', ',', 'a', 'growing', 'rumble', 'swept', 'forward', 'and', 'broke', 'the', 'peace', 'and', 'serenity', 'of', 'the', 'farmlands', '.', 'the', 'grinding', 'roar', 'gave', 'only', 'short', 'notice', 'as']\n[]\n"
     ]
    }
   ],
   "source": [
    "#load data\n",
    "data_dir = 'resources/Delver_Magic_ALL.txt'\n",
    "text = open(data_dir, 'r').read().lower()\n",
    "\n",
    "wordRegEx = re.compile(\"(?:[a-z']+)|(?:[,;:\\.!?])\")\n",
    "noWordRegEx = re.compile(\"^((?:[a-z']+)|(?:[,;:\\.!?]))\")\n",
    "words = wordRegEx.findall(text)\n",
    "noWords = noWordRegEx.findall(text)\n",
    "\n",
    "print(words[0:50])\n",
    "print(noWords)\n",
    "\n",
    "#words = list(myRegEx)\n",
    "#print (words[50])"
   ]
  },
  {
   "cell_type": "code",
   "execution_count": 114,
   "metadata": {},
   "outputs": [
    {
     "name": "stdout",
     "output_type": "stream",
     "text": [
      "505354\n505354\nCounter({'the': 18, 'of': 10, ',': 9, '.': 7, 'a': 6, 'in': 4, 'and': 4, 'as': 3, 'this': 3, 'was': 3, 'if': 2, 'wave': 2, 'its': 2, 'like': 2, 'forward': 2, 'convulsion': 2, 'power': 2, 'people': 2, 'were': 2, 'to': 2, 'tremor': 2, 'it': 2, 'quake': 2, 'that': 2, 'an': 2, 'at': 2, 'near': 1, 'town': 1, 'connel': 1, 'flatlands': 1, 'distance': 1, 'trembled': 1, 'great': 1, 'crested': 1, 'just': 1, 'beneath': 1, 'surface': 1, 'distant': 1, 'thunder': 1, 'growing': 1, 'rumble': 1, 'swept': 1, 'broke': 1, 'peace': 1, 'serenity': 1, 'farmlands': 1, 'grinding': 1, 'roar': 1, 'gave': 1, 'only': 1, 'short': 1, 'notice': 1, 'rolled': 1, 'with': 1, 'uniform': 1, 'region': 1, 'not': 1, 'accustomed': 1, 'earthquakes': 1, 'though': 1, 'some': 1, 'had': 1, 'experienced': 1, 'small': 1, 'vibration': 1, 'perhaps': 1, 'once': 1, 'their': 1, 'lifetimes': 1, 'however': 1, 'no': 1, 'slight': 1, 'nor': 1, 'massive': 1, 'west': 1, 'have': 1, 'often': 1, 'spoke': 1, 'all': 1, 'encompassing': 1, 'upheaval': 1, 'spreads': 1, 'ripples': 1, 'on': 1, 'disturbed': 1, 'water': 1, 'unleashed': 1, 'yet': 1, 'also': 1, 'confined': 1, 'same': 1, 'time': 1, 'took': 1, 'pure': 1, 'form': 1, 'single': 1, 'rolling': 1, 'unbroken': 1, 'line': 1, 'disturbance': 1, 'stretching': 1, 'north': 1, 'south': 1, 'ends': 1, 'out': 1, 'sight': 1, 'land': 1, 'front': 1, 'behind': 1, 'remained': 1, 'calm': 1, 'steady': 1, 'but': 1, 'ground': 1, 'point': 1, 'crest': 1, 'lifted': 1, 'up': 1, 'being': 1, 'pushed': 1, 'away': 1, 'by': 1, 'thousand': 1, 'angry': 1, 'souls': 1, 'long': 1, 'buried': 1})\n"
     ]
    }
   ],
   "source": [
    "wordList = list(words)\n",
    "myDict = collections.Counter(words[0:200])\n",
    "\n",
    "\n",
    "print(len(words))\n",
    "print(len(wordList))\n",
    "print(myDict)"
   ]
  },
  {
   "cell_type": "code",
   "execution_count": 115,
   "metadata": {},
   "outputs": [
    {
     "name": "stdout",
     "output_type": "stream",
     "text": [
      "near=1, the=18, town=1, of=10, connel=1, ,=9, the=18, flatlands=1, in=4, the=18, distance=1, trembled=1, as=3, if=2, a=6, great=1, wave=2, crested=1, just=1, beneath=1, its=2, surface=1, .=7, like=2, distant=1, thunder=1, ,=9, a=6, growing=1, rumble=1, swept=1, forward=2, and=4, broke=1, the=18, peace=1, and=4, serenity=1, of=10, the=18, farmlands=1, .=7, the=18, grinding=1, roar=1, gave=1, only=1, short=1, notice=1, as=3, the=18, wave=2, of=10, convulsion=2, rolled=1, forward=2, with=1, uniform=1, power=2, .=7, the=18, people=2, of=10, this=3, region=1, were=2, not=1, accustomed=1, to=2, earthquakes=1, ,=9, though=1, some=1, had=1, experienced=1, a=6, small=1, vibration=1, perhaps=1, once=1, in=4, their=1, lifetimes=1, .=7, this=3, ,=9, however=1, ,=9, was=3, no=1, slight=1, tremor=2, ,=9, nor=1, was=3, it=2, a=6, massive=1, quake=2, that=2, people=2, of=10, the=18, west=1, have=1, often=1, spoke=1, of=10, an=2, all=1, encompassing=1, upheaval=1, that=2, spreads=1, like=2, ripples=1, on=1, disturbed=1, water=1, .=7, this=3, was=3, power=2, unleashed=1, yet=1, also=1, confined=1, at=2, the=18, same=1, time=1, .=7, the=18, quake=2, took=1, the=18, pure=1, form=1, of=10, a=6, single=1, rolling=1, tremor=2, ,=9, an=2, unbroken=1, line=1, of=10, disturbance=1, stretching=1, north=1, to=2, south=1, ,=9, its=2, ends=1, out=1, of=10, sight=1, .=7, the=18, land=1, in=4, front=1, and=4, behind=1, the=18, convulsion=2, remained=1, calm=1, and=4, steady=1, ,=9, but=1, the=18, ground=1, at=2, the=18, point=1, of=10, the=18, crest=1, lifted=1, up=1, as=3, if=2, it=2, were=2, being=1, pushed=1, away=1, by=1, a=6, thousand=1, angry=1, souls=1, long=1, buried=1, in=4, the=18, 1 18 1 10 1 9 18 1 4 18 1 1 3 2 6 1 2 1 1 1 2 1 7 2 1 1 9 6 1 1 1 2 4 1 18 1 4 1 10 18 1 7 18 1 1 1 1 1 1 3 18 2 10 2 1 2 1 1 2 7 18 2 10 3 1 2 1 1 2 1 9 1 1 1 1 6 1 1 1 1 4 1 1 7 3 9 1 9 3 1 1 2 9 1 3 2 6 1 2 2 2 10 18 1 1 1 1 10 2 1 1 1 2 1 2 1 1 1 1 7 3 3 2 1 1 1 1 2 18 1 1 7 18 2 1 18 1 1 10 6 1 1 2 9 2 1 1 10 1 1 1 2 1 9 2 1 1 10 1 7 18 1 4 1 4 1 18 2 1 1 4 1 9 1 18 1 2 18 1 10 18 1 1 1 3 2 2 2 1 1 1 1 6 1 1 1 1 1 4 18 \n"
     ]
    }
   ],
   "source": [
    "newText=\"\"\n",
    "for w in words[0:200]:\n",
    "    print(w,end=\"=\")\n",
    "    w = myDict.get(w)\n",
    "    newText += str(w)+\" \"\n",
    "    print(w,end=\", \")\n",
    "    i+=1\n",
    "    \n",
    "print(newText)\n",
    "        "
   ]
  },
  {
   "cell_type": "code",
   "execution_count": null,
   "metadata": {},
   "outputs": [],
   "source": []
  }
 ],
 "metadata": {
  "kernelspec": {
   "display_name": "Python 2",
   "language": "python",
   "name": "python2"
  },
  "language_info": {
   "codemirror_mode": {
    "name": "ipython",
    "version": 2
   },
   "file_extension": ".py",
   "mimetype": "text/x-python",
   "name": "python",
   "nbconvert_exporter": "python",
   "pygments_lexer": "ipython2",
   "version": "2.7.6"
  }
 },
 "nbformat": 4,
 "nbformat_minor": 0
}
