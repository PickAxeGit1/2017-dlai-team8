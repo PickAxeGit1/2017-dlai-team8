{
 "cells": [
  {
   "cell_type": "code",
   "execution_count": 1,
   "metadata": {},
   "outputs": [
    {
     "name": "stderr",
     "output_type": "stream",
     "text": [
      "Using TensorFlow backend.\n",
      "usage: ipykernel_launcher.py [-h] [-data_dir DATA_DIR]\n",
      "                             [-batch_size BATCH_SIZE] [-layer_num LAYER_NUM]\n",
      "                             [-seq_length SEQ_LENGTH] [-hidden_dim HIDDEN_DIM]\n",
      "                             [-generate_length GENERATE_LENGTH]\n",
      "                             [-nb_epoch NB_EPOCH] [-mode MODE]\n",
      "                             [-weights WEIGHTS]\n",
      "ipykernel_launcher.py: error: unrecognized arguments: -f /root/.local/share/jupyter/runtime/kernel-8f121f44-e09a-4aa5-902f-0ba43d6eb9d9.json\n"
     ]
    },
    {
     "ename": "SystemExit",
     "evalue": "2",
     "traceback": [
      "An exception has occurred, use %tb to see the full traceback.\n",
      "\u001b[0;31mSystemExit\u001b[0m\u001b[0;31m:\u001b[0m 2\n"
     ],
     "output_type": "error"
    },
    {
     "name": "stderr",
     "output_type": "stream",
     "text": [
      "/usr/local/lib/python3.5/dist-packages/IPython/core/interactiveshell.py:2870: UserWarning: To exit: use 'exit', 'quit', or Ctrl-D.\n",
      "  warn(\"To exit: use 'exit', 'quit', or Ctrl-D.\", stacklevel=1)\n"
     ]
    }
   ],
   "source": [
    "from __future__ import print_function\n",
    "import matplotlib.pyplot as plt\n",
    "import numpy as np\n",
    "import time\n",
    "import csv\n",
    "from keras.models import Sequential\n",
    "from keras.layers.core import Dense, Activation, Dropout\n",
    "from keras.layers.recurrent import LSTM, SimpleRNN\n",
    "from keras.layers.wrappers import TimeDistributed\n",
    "import argparse\n",
    "from RNN_utils import *\n",
    "\n",
    "# Parsing arguments for Network definition\n",
    "ap = argparse.ArgumentParser()\n",
    "ap.add_argument('-data_dir', default='./data/test.txt')\n",
    "ap.add_argument('-batch_size', type=int, default=50)\n",
    "ap.add_argument('-layer_num', type=int, default=2)\n",
    "ap.add_argument('-seq_length', type=int, default=50)\n",
    "ap.add_argument('-hidden_dim', type=int, default=500)\n",
    "ap.add_argument('-generate_length', type=int, default=500)\n",
    "ap.add_argument('-nb_epoch', type=int, default=20)\n",
    "ap.add_argument('-mode', default='train')\n",
    "ap.add_argument('-weights', default='')\n",
    "args = vars(ap.parse_args())\n",
    "\n",
    "DATA_DIR = args['data_dir']\n",
    "BATCH_SIZE = args['batch_size']\n",
    "HIDDEN_DIM = args['hidden_dim']\n",
    "SEQ_LENGTH = args['seq_length']\n",
    "WEIGHTS = args['weights']\n",
    "\n",
    "GENERATE_LENGTH = args['generate_length']\n",
    "LAYER_NUM = args['layer_num']\n",
    "\n",
    "# Creating training data\n",
    "X, y, VOCAB_SIZE, ix_to_char = load_data(DATA_DIR, SEQ_LENGTH)\n",
    "\n",
    "# Creating and compiling the Network\n",
    "model = Sequential()\n",
    "model.add(LSTM(HIDDEN_DIM, input_shape=(None, VOCAB_SIZE), return_sequences=True))\n",
    "for i in range(LAYER_NUM - 1):\n",
    "  model.add(LSTM(HIDDEN_DIM, return_sequences=True))\n",
    "model.add(TimeDistributed(Dense(VOCAB_SIZE)))\n",
    "model.add(Activation('softmax'))\n",
    "model.compile(loss=\"categorical_crossentropy\", optimizer=\"rmsprop\")\n",
    "\n",
    "# Generate some sample before training to know how bad it is!\n",
    "generate_text(model, args['generate_length'], VOCAB_SIZE, ix_to_char)\n",
    "\n",
    "if not WEIGHTS == '':\n",
    "  model.load_weights(WEIGHTS)\n",
    "  nb_epoch = int(WEIGHTS[WEIGHTS.rfind('_') + 1:WEIGHTS.find('.')])\n",
    "else:\n",
    "  nb_epoch = 0\n",
    "\n",
    "# Training if there is no trained weights specified\n",
    "if args['mode'] == 'train' or WEIGHTS == '':\n",
    "  while True:\n",
    "    print('\\n\\nEpoch: {}\\n'.format(nb_epoch))\n",
    "    model.fit(X, y, batch_size=BATCH_SIZE, verbose=1, nb_epoch=1)\n",
    "    nb_epoch += 1\n",
    "    generate_text(model, GENERATE_LENGTH, VOCAB_SIZE, ix_to_char)\n",
    "    if nb_epoch % 10 == 0:\n",
    "      model.save_weights('checkpoint_layer_{}_hidden_{}_epoch_{}.hdf5'.format(LAYER_NUM, HIDDEN_DIM, nb_epoch))\n",
    "\n",
    "# Else, loading the trained weights and performing generation only\n",
    "elif WEIGHTS == '':\n",
    "  # Loading the trained weights\n",
    "  model.load_weights(WEIGHTS)\n",
    "  generate_text(model, GENERATE_LENGTH, VOCAB_SIZE, ix_to_char)\n",
    "  print('\\n\\n')\n",
    "else:\n",
    "  print('\\n\\nNothing to do!')\n"
   ]
  },
  {
   "cell_type": "code",
   "execution_count": null,
   "metadata": {},
   "outputs": [],
   "source": []
  }
 ],
 "metadata": {
  "kernelspec": {
   "display_name": "Python 3",
   "language": "python",
   "name": "python3"
  },
  "language_info": {
   "codemirror_mode": {
    "name": "ipython",
    "version": 3
   },
   "file_extension": ".py",
   "mimetype": "text/x-python",
   "name": "python",
   "nbconvert_exporter": "python",
   "pygments_lexer": "ipython3",
   "version": "3.5.2"
  }
 },
 "nbformat": 4,
 "nbformat_minor": 2
}
