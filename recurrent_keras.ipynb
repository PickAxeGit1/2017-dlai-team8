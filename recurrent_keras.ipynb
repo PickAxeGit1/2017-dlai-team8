{
 "cells": [
  {
   "cell_type": "code",
   "execution_count": 2,
   "metadata": {},
   "outputs": [],
   "source": [
    "import tensorflow as tf\n",
    "\n",
    "# Creates a session with log_device_placement set to True.\n",
    "sess = tf.Session(config=tf.ConfigProto(log_device_placement=True))"
   ]
  },
  {
   "cell_type": "code",
   "execution_count": 1,
   "metadata": {},
   "outputs": [],
   "source": [
    "import math as math\n",
    "from __future__ import print_function\n",
    "#import matplotlib.pyplot as plt\n",
    "import numpy as np\n",
    "import time\n",
    "import csv\n",
    "\n",
    "createDtb = True #load and save new data to pickle\n",
    "\n",
    "# import argparse\n",
    "# from RNN_utils import *"
   ]
  },
  {
   "cell_type": "code",
   "execution_count": 2,
   "metadata": {},
   "outputs": [],
   "source": [
    "# Parsing arguments for Network definition\n",
    "\n",
    "# ap = argparse.ArgumentParser()\n",
    "# ap.add_argument('-data_dir', default='./data/test.txt')\n",
    "# ap.add_argument('-batch_size', type=int, default=50)\n",
    "# ap.add_argument('-layer_num', type=int, default=2)\n",
    "# ap.add_argument('-seq_length', type=int, default=50)\n",
    "# ap.add_argument('-hidden_dim', type=int, default=500)\n",
    "# ap.add_argument('-generate_length', type=int, default=500)\n",
    "# ap.add_argument('-nb_epoch', type=int, default=20)\n",
    "# ap.add_argument('-mode', default='train')\n",
    "# ap.add_argument('-weights', default='')\n",
    "# args = vars(ap.parse_args())\n",
    "\n",
    "DATA_DIR = 'resources/LOTR_utf8.txt'\n",
    "BATCH_SIZE = 50\n",
    "LAYER_NUM = 2\n",
    "SEQ_LENGTH = 50\n",
    "HIDDEN_DIM = 500\n",
    "GENERATE_LENGTH = 500\n",
    "NB_EPOCH = 2 # standard:20\n",
    "MODE = \"train\"\n",
    "WEIGHTS = \"\""
   ]
  },
  {
   "cell_type": "code",
   "execution_count": 4,
   "metadata": {},
   "outputs": [],
   "source": [
    "data = open(DATA_DIR, 'r').read().lower()\n",
    "text = list (data)\n",
    "text = text[0:1000000]"
   ]
  },
  {
   "cell_type": "code",
   "execution_count": 5,
   "metadata": {
    "collapsed": true
   },
   "outputs": [],
   "source": [
    "from __future__ import print_function\n",
    "import numpy as np\n",
    "\n",
    "# method for generating text\n",
    "def generate_text(model, length, vocab_size, ix_to_char):\n",
    "\t# starting with random character\n",
    "\tix = [np.random.randint(vocab_size)]\n",
    "\ty_char = [ix_to_char[ix[-1]]]\n",
    "\tX = np.zeros((1, length, vocab_size))\n",
    "\tfor i in range(length):\n",
    "\t\t# appending the last predicted character to sequence\n",
    "\t\tX[0, i, :][ix[-1]] = 1\n",
    "\t\tprint(ix_to_char[ix[-1]], end=\"\")\n",
    "\t\tix = np.argmax(model.predict(X[:, :i+1, :])[0], 1)\n",
    "\t\ty_char.append(ix_to_char[ix[-1]])\n",
    "\treturn ('').join(y_char)\n",
    "\n",
    "# method for preparing the training data\n",
    "def load_data(data_dir, seq_length):\n",
    "   data = open(data_dir, 'r').read()\n",
    "   chars = list(set(data))[0:100]\n",
    "   VOCAB_SIZE = len(chars)\n",
    "   \n",
    "   print('Data length: {} characters'.format(len(data)))\n",
    "   print('Vocabulary size: {} characters'.format(VOCAB_SIZE))\n",
    "   \n",
    "   ix_to_char = {ix:char for ix, char in enumerate(chars)}\n",
    "   char_to_ix = {char:ix for ix, char in enumerate(chars)}\n",
    "   \n",
    "   X = np.zeros((math.ceil(len(data)/seq_length), seq_length, VOCAB_SIZE))\n",
    "   y = np.zeros((math.ceil(len(data)/seq_length), seq_length, VOCAB_SIZE))\n",
    "   \n",
    "   print(\"for[0:\"+str(math.floor(len(data)/seq_length))+\"]\")\n",
    "   \n",
    "   for i in range(0, math.floor(len(data)/seq_length)):\n",
    "      X_sequence = data[i*seq_length:(i+1)*seq_length]\n",
    "      X_sequence_ix = [char_to_ix[value] for value in X_sequence]\n",
    "      input_sequence = np.zeros((seq_length, VOCAB_SIZE))\n",
    "      \n",
    "      for j in range(seq_length):\n",
    "         input_sequence[j][X_sequence_ix[j]] = 1.\n",
    "         X[i] = input_sequence\n",
    "         \n",
    "      if (i%1000) == 0:\n",
    "         print(i,end=\", \")\n",
    "      \n",
    "      y_sequence = data[i*seq_length+1:(i+1)*seq_length+1]\n",
    "      y_sequence_ix = [char_to_ix[value] for value in y_sequence]\n",
    "      target_sequence = np.zeros((seq_length, VOCAB_SIZE))\n",
    "      \n",
    "      for j in range(seq_length):\n",
    "         target_sequence[j][y_sequence_ix[j]] = 1.\n",
    "         y[i] = target_sequence\n",
    "   return X, y, VOCAB_SIZE, ix_to_char"
   ]
  },
  {
   "cell_type": "code",
   "execution_count": 6,
   "metadata": {},
   "outputs": [],
   "source": [
    "# method for saving data\n",
    "def save_pickle(name, data):\n",
    "   import pickle\n",
    "   data_dir='data/'+name+'.pickle'\n",
    "   \n",
    "   with open(data_dir, 'wb') as f:\n",
    "      # Pickle the 'data' dictionary using the highest protocol available.\n",
    "      pickle.dump(data, f, pickle.HIGHEST_PROTOCOL)\n",
    "\n",
    "# method for loading data\n",
    "def load_pickle(name):\n",
    "   import pickle\n",
    "   data_dir='data/'+name+'.pickle'\n",
    "   \n",
    "   with open(data_dir, 'rb') as f:\n",
    "      # The protocol version used is detected automatically, so we do not\n",
    "      # have to specify it.\n",
    "      data = pickle.load(f)\n",
    "   return data"
   ]
  },
  {
   "cell_type": "code",
   "execution_count": 21,
   "metadata": {
    "collapsed": false
   },
   "outputs": [
    {
     "name": "stdout",
     "output_type": "stream",
     "text": [
      "Data length: 2441885 characters\nVocabulary size: 71 characters\nfor[0:48837]\n0, 100, 200, "
     ]
    },
    {
     "name": "stdout",
     "output_type": "stream",
     "text": [
      "300, 400, 500, "
     ]
    },
    {
     "name": "stdout",
     "output_type": "stream",
     "text": [
      "600, 700, 800, "
     ]
    },
    {
     "name": "stdout",
     "output_type": "stream",
     "text": [
      "900, 1000, 1100, "
     ]
    },
    {
     "name": "stdout",
     "output_type": "stream",
     "text": [
      "1200, 1300, 1400, "
     ]
    },
    {
     "name": "stdout",
     "output_type": "stream",
     "text": [
      "1500, 1600, 1700, "
     ]
    },
    {
     "name": "stdout",
     "output_type": "stream",
     "text": [
      "1800, 1900, 2000, "
     ]
    },
    {
     "name": "stdout",
     "output_type": "stream",
     "text": [
      "2100, 2200, 2300, "
     ]
    },
    {
     "name": "stdout",
     "output_type": "stream",
     "text": [
      "2400, 2500, 2600, "
     ]
    },
    {
     "name": "stdout",
     "output_type": "stream",
     "text": [
      "2700, 2800, 2900, "
     ]
    },
    {
     "name": "stdout",
     "output_type": "stream",
     "text": [
      "3000, 3100, 3200, "
     ]
    },
    {
     "name": "stdout",
     "output_type": "stream",
     "text": [
      "3300, 3400, 3500, "
     ]
    },
    {
     "name": "stdout",
     "output_type": "stream",
     "text": [
      "3600, 3700, 3800, "
     ]
    },
    {
     "name": "stdout",
     "output_type": "stream",
     "text": [
      "3900, 4000, 4100, "
     ]
    },
    {
     "name": "stdout",
     "output_type": "stream",
     "text": [
      "4200, 4300, 4400, "
     ]
    },
    {
     "name": "stdout",
     "output_type": "stream",
     "text": [
      "4500, 4600, 4700, "
     ]
    },
    {
     "name": "stdout",
     "output_type": "stream",
     "text": [
      "4800, 4900, 5000, "
     ]
    },
    {
     "name": "stdout",
     "output_type": "stream",
     "text": [
      "5100, 5200, 5300, "
     ]
    },
    {
     "name": "stdout",
     "output_type": "stream",
     "text": [
      "5400, 5500, 5600, "
     ]
    },
    {
     "name": "stdout",
     "output_type": "stream",
     "text": [
      "5700, 5800, 5900, "
     ]
    },
    {
     "name": "stdout",
     "output_type": "stream",
     "text": [
      "6000, 6100, 6200, "
     ]
    },
    {
     "name": "stdout",
     "output_type": "stream",
     "text": [
      "6300, 6400, 6500, "
     ]
    },
    {
     "name": "stdout",
     "output_type": "stream",
     "text": [
      "6600, 6700, "
     ]
    },
    {
     "name": "stdout",
     "output_type": "stream",
     "text": [
      "6800, 6900, "
     ]
    },
    {
     "name": "stdout",
     "output_type": "stream",
     "text": [
      "7000, 7100, 7200, "
     ]
    },
    {
     "name": "stdout",
     "output_type": "stream",
     "text": [
      "7300, 7400, 7500, "
     ]
    },
    {
     "name": "stdout",
     "output_type": "stream",
     "text": [
      "7600, 7700, 7800, "
     ]
    },
    {
     "name": "stdout",
     "output_type": "stream",
     "text": [
      "7900, 8000, 8100, "
     ]
    },
    {
     "name": "stdout",
     "output_type": "stream",
     "text": [
      "8200, 8300, 8400, "
     ]
    },
    {
     "name": "stdout",
     "output_type": "stream",
     "text": [
      "8500, 8600, 8700, "
     ]
    },
    {
     "name": "stdout",
     "output_type": "stream",
     "text": [
      "8800, 8900, 9000, "
     ]
    },
    {
     "name": "stdout",
     "output_type": "stream",
     "text": [
      "9100, 9200, 9300, "
     ]
    },
    {
     "name": "stdout",
     "output_type": "stream",
     "text": [
      "9400, 9500, 9600, "
     ]
    },
    {
     "name": "stdout",
     "output_type": "stream",
     "text": [
      "9700, 9800, 9900, "
     ]
    },
    {
     "name": "stdout",
     "output_type": "stream",
     "text": [
      "10000, 10100, 10200, "
     ]
    },
    {
     "name": "stdout",
     "output_type": "stream",
     "text": [
      "10300, 10400, 10500, "
     ]
    },
    {
     "name": "stdout",
     "output_type": "stream",
     "text": [
      "10600, 10700, 10800, "
     ]
    },
    {
     "name": "stdout",
     "output_type": "stream",
     "text": [
      "10900, 11000, 11100, "
     ]
    },
    {
     "name": "stdout",
     "output_type": "stream",
     "text": [
      "11200, 11300, 11400, "
     ]
    },
    {
     "name": "stdout",
     "output_type": "stream",
     "text": [
      "11500, 11600, 11700, "
     ]
    },
    {
     "name": "stdout",
     "output_type": "stream",
     "text": [
      "11800, 11900, 12000, "
     ]
    },
    {
     "name": "stdout",
     "output_type": "stream",
     "text": [
      "12100, 12200, 12300, "
     ]
    },
    {
     "name": "stdout",
     "output_type": "stream",
     "text": [
      "12400, 12500, 12600, "
     ]
    },
    {
     "name": "stdout",
     "output_type": "stream",
     "text": [
      "12700, 12800, 12900, "
     ]
    },
    {
     "name": "stdout",
     "output_type": "stream",
     "text": [
      "13000, 13100, 13200, "
     ]
    },
    {
     "name": "stdout",
     "output_type": "stream",
     "text": [
      "13300, 13400, 13500, "
     ]
    },
    {
     "name": "stdout",
     "output_type": "stream",
     "text": [
      "13600, 13700, "
     ]
    }
   ],
   "source": [
    "# Creating training data\n",
    "X, y, VOCAB_SIZE, ix_to_char = load_data(DATA_DIR, SEQ_LENGTH)\n",
    "\n",
    "print(\"X= \")\n",
    "print(X[0:10], end=\", \")\n",
    "print(\"y= \")\n",
    "print(y[0:10], end=\", \")\n",
    "\n",
    "save_pickle('X', X)\n",
    "save_pickle('y', y)\n",
    "save_pickle('VOCAB_SIZE', VOCAB_SIZE)\n",
    "save_pickle('ix_to_char', ix_to_char)\n",
    "\n",
    "X_load = load_pickle('X')\n",
    "y_load = load_pickle('y')\n",
    "\n",
    "print(\"X_load= \")\n",
    "print(X_load[0:10], end=\", \")\n",
    "print(\"y_load= \")\n",
    "print(y_load[0:10], end=\", \")"
   ]
  },
  {
   "cell_type": "code",
   "execution_count": null,
   "metadata": {},
   "outputs": [],
   "source": [
    "# imports\n",
    "from keras.models import Sequential\n",
    "from keras.layers.core import Dense, Activation, Dropout\n",
    "from keras.layers.recurrent import LSTM, SimpleRNN\n",
    "from keras.layers.wrappers import TimeDistributed\n",
    "\n",
    "\n",
    "# Creating and compiling the Network\n",
    "model = Sequential()\n",
    "model.add(LSTM(HIDDEN_DIM, input_shape=(None, VOCAB_SIZE), return_sequences=True))\n",
    "for i in range(LAYER_NUM - 1):\n",
    "  model.add(LSTM(HIDDEN_DIM, return_sequences=True))\n",
    "model.add(TimeDistributed(Dense(VOCAB_SIZE)))\n",
    "model.add(Activation('softmax'))\n",
    "model.compile(loss=\"categorical_crossentropy\", optimizer=\"rmsprop\")"
   ]
  },
  {
   "cell_type": "code",
   "execution_count": null,
   "metadata": {},
   "outputs": [],
   "source": [
    "ix_to_char = load_pickle('ix_to_char')\n",
    "VOCAB_SIZE = load_pickle('VOCAB_SIZE')\n",
    "# Generate some sample before training to know how bad it is!\n",
    "generate_text(model, GENERATE_LENGTH, VOCAB_SIZE, ix_to_char)\n",
    "\n",
    "if not WEIGHTS == '':\n",
    "  model.load_weights(WEIGHTS)\n",
    "  nb_epoch = int(WEIGHTS[WEIGHTS.rfind('_') + 1:WEIGHTS.find('.')])\n",
    "else:\n",
    "  nb_epoch = 0"
   ]
  },
  {
   "cell_type": "code",
   "execution_count": null,
   "metadata": {},
   "outputs": [],
   "source": [
    "X = load_pickle('X')\n",
    "y = load_pickle('y')\n",
    "ix_to_char = load_pickle('ix_to_char')\n",
    "VOCAB_SIZE = load_pickle('VOCAB_SIZE')\n",
    "\n",
    "# Training if there is no trained weights specified\n",
    "if args['mode'] == 'train' or WEIGHTS == '':\n",
    "  while True:\n",
    "    print('\\n\\nEpoch: {}\\n'.format(nb_epoch))\n",
    "    model.fit(X, y, batch_size=BATCH_SIZE, verbose=1, nb_epoch=1)\n",
    "    nb_epoch += 1\n",
    "    generate_text(model, GENERATE_LENGTH, VOCAB_SIZE, ix_to_char)\n",
    "    \n",
    "    #save every 10th epoch\n",
    "    if nb_epoch % 2 == 0:\n",
    "      model.save_weights('checkpoint_layer_{}_hidden_{}_epoch_{}.hdf5'.format(LAYER_NUM, HIDDEN_DIM, nb_epoch))\n",
    "\n",
    "# Else, loading the trained weights and performing generation only\n",
    "elif WEIGHTS == '':\n",
    "  # Loading the trained weights\n",
    "  model.load_weights(WEIGHTS)\n",
    "  generate_text(model, GENERATE_LENGTH, VOCAB_SIZE, ix_to_char)\n",
    "  print('\\n\\n')\n",
    "else:\n",
    "  print('\\n\\nNothing to do!')\n"
   ]
  }
 ],
 "metadata": {
  "kernelspec": {
   "display_name": "Python 3",
   "language": "python",
   "name": "python3"
  },
  "language_info": {
   "codemirror_mode": {
    "name": "ipython",
    "version": 3
   },
   "file_extension": ".py",
   "mimetype": "text/x-python",
   "name": "python",
   "nbconvert_exporter": "python",
   "pygments_lexer": "ipython3",
   "version": "3.5.2"
  }
 },
 "nbformat": 4,
 "nbformat_minor": 2
}
