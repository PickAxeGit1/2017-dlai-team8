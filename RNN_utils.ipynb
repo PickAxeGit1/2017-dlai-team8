{
 "cells": [
  {
   "cell_type": "code",
   "execution_count": 4,
   "metadata": {},
   "outputs": [],
   "source": [
    "from __future__ import print_function\n",
    "import numpy as np\n",
    "\n",
    "# method for generating text\n",
    "def generate_text(model, length, vocab_size, ix_to_char):\n",
    "\t# starting with random character\n",
    "\tix = [np.random.randint(vocab_size)]\n",
    "\ty_char = [ix_to_char[ix[-1]]]\n",
    "\tX = np.zeros((1, length, vocab_size))\n",
    "\tfor i in range(length):\n",
    "\t\t# appending the last predicted character to sequence\n",
    "\t\tX[0, i, :][ix[-1]] = 1\n",
    "\t\tprint(ix_to_char[ix[-1]], end=\"\")\n",
    "\t\tix = np.argmax(model.predict(X[:, :i+1, :])[0], 1)\n",
    "\t\ty_char.append(ix_to_char[ix[-1]])\n",
    "\treturn ('').join(y_char)\n",
    "\n",
    "# method for preparing the training data\n",
    "def load_data(data_dir, seq_length):\n",
    "\tdata = open(data_dir, 'r').read()\n",
    "\tchars = list(set(data))\n",
    "\tVOCAB_SIZE = len(chars)\n",
    "\n",
    "\tprint('Data length: {} characters'.format(len(data)))\n",
    "\tprint('Vocabulary size: {} characters'.format(VOCAB_SIZE))\n",
    "\n",
    "\tix_to_char = {ix:char for ix, char in enumerate(chars)}\n",
    "\tchar_to_ix = {char:ix for ix, char in enumerate(chars)}\n",
    "\n",
    "\tX = np.zeros((len(data)/seq_length, seq_length, VOCAB_SIZE))\n",
    "\ty = np.zeros((len(data)/seq_length, seq_length, VOCAB_SIZE))\n",
    "\tfor i in range(0, len(data)/seq_length):\n",
    "\t\tX_sequence = data[i*seq_length:(i+1)*seq_length]\n",
    "\t\tX_sequence_ix = [char_to_ix[value] for value in X_sequence]\n",
    "\t\tinput_sequence = np.zeros((seq_length, VOCAB_SIZE))\n",
    "\t\tfor j in range(seq_length):\n",
    "\t\t\tinput_sequence[j][X_sequence_ix[j]] = 1.\n",
    "\t\t\tX[i] = input_sequence\n",
    "\n",
    "\t\ty_sequence = data[i*seq_length+1:(i+1)*seq_length+1]\n",
    "\t\ty_sequence_ix = [char_to_ix[value] for value in y_sequence]\n",
    "\t\ttarget_sequence = np.zeros((seq_length, VOCAB_SIZE))\n",
    "\t\tfor j in range(seq_length):\n",
    "\t\t\ttarget_sequence[j][y_sequence_ix[j]] = 1.\n",
    "\t\t\ty[i] = target_sequence\n",
    "\treturn X, y, VOCAB_SIZE, ix_to_char\n"
   ]
  },
  {
   "cell_type": "code",
   "execution_count": null,
   "metadata": {},
   "outputs": [],
   "source": []
  }
 ],
 "metadata": {
  "kernelspec": {
   "display_name": "Python 3",
   "language": "python",
   "name": "python3"
  },
  "language_info": {
   "codemirror_mode": {
    "name": "ipython",
    "version": 3
   },
   "file_extension": ".py",
   "mimetype": "text/x-python",
   "name": "python",
   "nbconvert_exporter": "python",
   "pygments_lexer": "ipython3",
   "version": "3.5.2"
  }
 },
 "nbformat": 4,
 "nbformat_minor": 2
}
